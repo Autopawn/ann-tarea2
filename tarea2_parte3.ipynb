{
 "cells": [
  {
   "cell_type": "code",
   "execution_count": 16,
   "metadata": {},
   "outputs": [
    {
     "name": "stderr",
     "output_type": "stream",
     "text": [
      "[nltk_data] Downloading package averaged_perceptron_tagger to\n",
      "[nltk_data]     /home/fcasas/nltk_data...\n",
      "[nltk_data]   Unzipping taggers/averaged_perceptron_tagger.zip.\n"
     ]
    },
    {
     "data": {
      "text/plain": [
       "True"
      ]
     },
     "execution_count": 16,
     "metadata": {},
     "output_type": "execute_result"
    }
   ],
   "source": [
    "import pandas as pd\n",
    "import numpy as np\n",
    "import re, os, sys\n",
    "import matplotlib.pyplot as plt\n",
    "\n",
    "import nltk\n",
    "import nltk.corpus\n",
    "\n",
    "nltk.download('averaged_perceptron_tagger')"
   ]
  },
  {
   "cell_type": "markdown",
   "metadata": {
    "colab_type": "text",
    "id": "3t7CRUJ9sweH"
   },
   "source": [
    "<a id=\"cuarto\"></a>\n",
    "## 3. CNN sobre texto\n",
    "\n",
    "Cuando oimos sobre redes neuronales convolucionales (CNN) normalmente pensamos en visión artificial. Las CNN fueron responsables de los principales avances en la clasificación de imágenes y son el núcleo de la mayoría de los sistemas de *Computer Vision* en la actualidad, desde el etiquetado automático de fotos de Facebook hasta los autos que conducen por sí mismos.\n",
    "\n",
    "Más recientemente, también hemos empezado a aplicar CNN a problemas de procesamiento del lenguaje natural (NLP) y hemos obtenido resultados interesantes. Como sabemos, las redes convolucionales tienen importantes ventajas como invarianza a rotaciones y traslaciones así como la conectividad local (características de nivel inferior en una representación de nivel superior), además de lo que las hace fuertemente ventajosas, el **compartir** parámetros.\n",
    "\n",
    "\n",
    "**¿Cómo se aplica esto a NLP?**  \n",
    "En esta experimentación apicaremos una red CNN al dataset  __[Adzuna](https://www.kaggle.com/c/job-salary-prediction)__ que contiene cientos de miles de registros que en su mayoría corresponden a texto no estructurado versus sólo unos pocos estructurados. Los registros pueden estar en varios formatos diferentes debido a los cientos de diferentes fuentes de registros, los cuales corresponden a anuncios de empleadores en busca de trabajadores.  \n",
    "Es decir, cada fila es un anuncio que, en estricto rigor, representa una sentencia típicamente trabajada como vectores de word embeddings como **word2vec** o **GloVe**. Así, para una frase de 10 palabras bajo representaciones de *embeddings* utilizando 100 dimensiones tendríamos una matriz de 10 × 100 como entrada, lo que simularía nuestra \"imagen\".\n",
    "\n",
    "\n",
    "Su tarea es entonces, predecir el salario (valor continuo) de un determinado anuncio en base al texto indicado en éste. Igualmente puede valerse de otros atributos del anuncio como por ejemplo la ubicación, tipo de contrato, etc. \n",
    "\n",
    "\n",
    "A continuación se presenta un código de guía para leer los archivos y pre-procesarlos. Deberá añadir y realizar lo que estime conveniente."
   ]
  },
  {
   "cell_type": "code",
   "execution_count": 4,
   "metadata": {},
   "outputs": [
    {
     "data": {
      "text/html": [
       "<div>\n",
       "<style scoped>\n",
       "    .dataframe tbody tr th:only-of-type {\n",
       "        vertical-align: middle;\n",
       "    }\n",
       "\n",
       "    .dataframe tbody tr th {\n",
       "        vertical-align: top;\n",
       "    }\n",
       "\n",
       "    .dataframe thead th {\n",
       "        text-align: right;\n",
       "    }\n",
       "</style>\n",
       "<table border=\"1\" class=\"dataframe\">\n",
       "  <thead>\n",
       "    <tr style=\"text-align: right;\">\n",
       "      <th></th>\n",
       "      <th>Id</th>\n",
       "      <th>Title</th>\n",
       "      <th>FullDescription</th>\n",
       "      <th>LocationRaw</th>\n",
       "      <th>LocationNormalized</th>\n",
       "      <th>ContractType</th>\n",
       "      <th>ContractTime</th>\n",
       "      <th>Company</th>\n",
       "      <th>Category</th>\n",
       "      <th>SalaryRaw</th>\n",
       "      <th>SalaryNormalized</th>\n",
       "      <th>SourceName</th>\n",
       "    </tr>\n",
       "  </thead>\n",
       "  <tbody>\n",
       "    <tr>\n",
       "      <th>0</th>\n",
       "      <td>12612628</td>\n",
       "      <td>Engineering Systems Analyst</td>\n",
       "      <td>Engineering Systems Analyst Dorking Surrey Sal...</td>\n",
       "      <td>Dorking, Surrey, Surrey</td>\n",
       "      <td>Dorking</td>\n",
       "      <td>NaN</td>\n",
       "      <td>permanent</td>\n",
       "      <td>Gregory Martin International</td>\n",
       "      <td>Engineering Jobs</td>\n",
       "      <td>20000 - 30000/annum 20-30K</td>\n",
       "      <td>25000</td>\n",
       "      <td>cv-library.co.uk</td>\n",
       "    </tr>\n",
       "    <tr>\n",
       "      <th>1</th>\n",
       "      <td>12612830</td>\n",
       "      <td>Stress Engineer Glasgow</td>\n",
       "      <td>Stress Engineer Glasgow Salary **** to **** We...</td>\n",
       "      <td>Glasgow, Scotland, Scotland</td>\n",
       "      <td>Glasgow</td>\n",
       "      <td>NaN</td>\n",
       "      <td>permanent</td>\n",
       "      <td>Gregory Martin International</td>\n",
       "      <td>Engineering Jobs</td>\n",
       "      <td>25000 - 35000/annum 25-35K</td>\n",
       "      <td>30000</td>\n",
       "      <td>cv-library.co.uk</td>\n",
       "    </tr>\n",
       "    <tr>\n",
       "      <th>2</th>\n",
       "      <td>12612844</td>\n",
       "      <td>Modelling and simulation analyst</td>\n",
       "      <td>Mathematical Modeller / Simulation Analyst / O...</td>\n",
       "      <td>Hampshire, South East, South East</td>\n",
       "      <td>Hampshire</td>\n",
       "      <td>NaN</td>\n",
       "      <td>permanent</td>\n",
       "      <td>Gregory Martin International</td>\n",
       "      <td>Engineering Jobs</td>\n",
       "      <td>20000 - 40000/annum 20-40K</td>\n",
       "      <td>30000</td>\n",
       "      <td>cv-library.co.uk</td>\n",
       "    </tr>\n",
       "    <tr>\n",
       "      <th>3</th>\n",
       "      <td>12613049</td>\n",
       "      <td>Engineering Systems Analyst / Mathematical Mod...</td>\n",
       "      <td>Engineering Systems Analyst / Mathematical Mod...</td>\n",
       "      <td>Surrey, South East, South East</td>\n",
       "      <td>Surrey</td>\n",
       "      <td>NaN</td>\n",
       "      <td>permanent</td>\n",
       "      <td>Gregory Martin International</td>\n",
       "      <td>Engineering Jobs</td>\n",
       "      <td>25000 - 30000/annum 25K-30K negotiable</td>\n",
       "      <td>27500</td>\n",
       "      <td>cv-library.co.uk</td>\n",
       "    </tr>\n",
       "    <tr>\n",
       "      <th>4</th>\n",
       "      <td>12613647</td>\n",
       "      <td>Pioneer, Miser Engineering Systems Analyst</td>\n",
       "      <td>Pioneer, Miser  Engineering Systems Analyst Do...</td>\n",
       "      <td>Surrey, South East, South East</td>\n",
       "      <td>Surrey</td>\n",
       "      <td>NaN</td>\n",
       "      <td>permanent</td>\n",
       "      <td>Gregory Martin International</td>\n",
       "      <td>Engineering Jobs</td>\n",
       "      <td>20000 - 30000/annum 20-30K</td>\n",
       "      <td>25000</td>\n",
       "      <td>cv-library.co.uk</td>\n",
       "    </tr>\n",
       "  </tbody>\n",
       "</table>\n",
       "</div>"
      ],
      "text/plain": [
       "         Id                                              Title  \\\n",
       "0  12612628                        Engineering Systems Analyst   \n",
       "1  12612830                            Stress Engineer Glasgow   \n",
       "2  12612844                   Modelling and simulation analyst   \n",
       "3  12613049  Engineering Systems Analyst / Mathematical Mod...   \n",
       "4  12613647         Pioneer, Miser Engineering Systems Analyst   \n",
       "\n",
       "                                     FullDescription  \\\n",
       "0  Engineering Systems Analyst Dorking Surrey Sal...   \n",
       "1  Stress Engineer Glasgow Salary **** to **** We...   \n",
       "2  Mathematical Modeller / Simulation Analyst / O...   \n",
       "3  Engineering Systems Analyst / Mathematical Mod...   \n",
       "4  Pioneer, Miser  Engineering Systems Analyst Do...   \n",
       "\n",
       "                         LocationRaw LocationNormalized ContractType  \\\n",
       "0            Dorking, Surrey, Surrey            Dorking          NaN   \n",
       "1        Glasgow, Scotland, Scotland            Glasgow          NaN   \n",
       "2  Hampshire, South East, South East          Hampshire          NaN   \n",
       "3     Surrey, South East, South East             Surrey          NaN   \n",
       "4     Surrey, South East, South East             Surrey          NaN   \n",
       "\n",
       "  ContractTime                       Company          Category  \\\n",
       "0    permanent  Gregory Martin International  Engineering Jobs   \n",
       "1    permanent  Gregory Martin International  Engineering Jobs   \n",
       "2    permanent  Gregory Martin International  Engineering Jobs   \n",
       "3    permanent  Gregory Martin International  Engineering Jobs   \n",
       "4    permanent  Gregory Martin International  Engineering Jobs   \n",
       "\n",
       "                                SalaryRaw  SalaryNormalized        SourceName  \n",
       "0              20000 - 30000/annum 20-30K             25000  cv-library.co.uk  \n",
       "1              25000 - 35000/annum 25-35K             30000  cv-library.co.uk  \n",
       "2              20000 - 40000/annum 20-40K             30000  cv-library.co.uk  \n",
       "3  25000 - 30000/annum 25K-30K negotiable             27500  cv-library.co.uk  \n",
       "4              20000 - 30000/annum 20-30K             25000  cv-library.co.uk  "
      ]
     },
     "execution_count": 4,
     "metadata": {},
     "output_type": "execute_result"
    }
   ],
   "source": [
    "stoplist = nltk.corpus.stopwords.words('english')\n",
    "df = pd.read_csv(\"all/Train_rev1.csv\")\n",
    "df.head()"
   ]
  },
  {
   "cell_type": "code",
   "execution_count": 36,
   "metadata": {},
   "outputs": [],
   "source": [
    "POS_TO_WORDNET = {\n",
    "    'JJ':   nltk.corpus.wordnet.ADJ,\n",
    "    'JJR':  nltk.corpus.wordnet.ADJ,\n",
    "    'JJS':  nltk.corpus.wordnet.ADJ,\n",
    "    'RB':   nltk.corpus.wordnet.ADV,\n",
    "    'RBR':  nltk.corpus.wordnet.ADV,\n",
    "    'RBS':  nltk.corpus.wordnet.ADV,\n",
    "    'NN':   nltk.corpus.wordnet.NOUN,\n",
    "    'NNP':  nltk.corpus.wordnet.NOUN,\n",
    "    'NNS':  nltk.corpus.wordnet.NOUN,\n",
    "    'NNPS': nltk.corpus.wordnet.NOUN,\n",
    "    'VB':   nltk.corpus.wordnet.VERB,\n",
    "    'VBG':  nltk.corpus.wordnet.VERB,\n",
    "    'VBD':  nltk.corpus.wordnet.VERB,\n",
    "    'VBN':  nltk.corpus.wordnet.VERB,\n",
    "    'VBP':  nltk.corpus.wordnet.VERB,\n",
    "    'VBZ':  nltk.corpus.wordnet.VERB,\n",
    "}\n",
    "\n",
    "lemmatizer = nltk.WordNetLemmatizer()\n",
    "\n",
    "def penn_to_wn(tag):\n",
    "    return POS_TO_WORDNET.get(tag,nltk.corpus.wordnet.NOUN)\n",
    "    \n",
    "def preproc_string(s):\n",
    "    s = s.lower()\n",
    "    s = re.sub(r'[^\\w]', ' ',s)\n",
    "    s = re.sub(r'\\b[a-z]\\b', ' ',  s)\n",
    "    s = re.sub(r'\\b[a-z][a-z]\\b', ' ',  s)\n",
    "    s = re.sub(r'\\b[0-9]\\b', ' ',  s)\n",
    "    s = re.sub(r'\\b[0-9][0-9]\\b', ' ',  s)\n",
    "    s = re.sub(r'\\b[0-9][0-9][0-9]\\b', ' ',  s)\n",
    "    s = re.sub(r'[^\\w.]', ' ', s)\n",
    "    text = nltk.word_tokenize(s)\n",
    "    # pos tagging\n",
    "    tags = nltk.pos_tag(text)\n",
    "    # lemmatization\n",
    "    lemms = [lemmatizer.lemmatize(x,penn_to_wn(y)) for x,y in tags]\n",
    "    # remove stopwords\n",
    "    lemms = [x for x in lemms if x not in stoplist]\n",
    "    return lemms"
   ]
  },
  {
   "cell_type": "code",
   "execution_count": 37,
   "metadata": {},
   "outputs": [
    {
     "name": "stdout",
     "output_type": "stream",
     "text": [
      "Engineering Systems Analyst Dorking Surrey Salary ****K Our client is located in Dorking, Surrey and are looking for Engineering Systems Analyst our client provides specialist software development Keywords Mathematical Modelling, Risk Analysis, System Modelling, Optimisation, MISER, PIONEEER Engineering Systems Analyst Dorking Surrey Salary ****K\n",
      "\n",
      "['engineering', 'system', 'analyst', 'dorking', 'surrey', 'salary', 'client', 'locate', 'dorking', 'surrey', 'look', 'engineering', 'system', 'analyst', 'client', 'provide', 'specialist', 'software', 'development', 'keywords', 'mathematical', 'modelling', 'risk', 'analysis', 'system', 'model', 'optimisation', 'miser', 'pioneeer', 'engineering', 'system', 'analyst', 'dorking', 'surrey', 'salary']\n"
     ]
    }
   ],
   "source": [
    "print(df['FullDescription'][0])\n",
    "print()\n",
    "print(preproc_string(df['FullDescription'][0]))"
   ]
  },
  {
   "cell_type": "code",
   "execution_count": 52,
   "metadata": {
    "scrolled": false
   },
   "outputs": [
    {
     "name": "stdout",
     "output_type": "stream",
     "text": [
      "0/244768\n",
      "10000/244768\n",
      "20000/244768\n",
      "30000/244768\n",
      "40000/244768\n",
      "50000/244768\n",
      "60000/244768\n",
      "70000/244768\n",
      "80000/244768\n",
      "90000/244768\n",
      "100000/244768\n",
      "110000/244768\n",
      "120000/244768\n",
      "130000/244768\n",
      "140000/244768\n",
      "150000/244768\n",
      "160000/244768\n",
      "170000/244768\n",
      "180000/244768\n",
      "190000/244768\n",
      "200000/244768\n",
      "210000/244768\n",
      "220000/244768\n",
      "230000/244768\n",
      "240000/244768\n"
     ]
    }
   ],
   "source": [
    "def len_force(lemms,lim=5):\n",
    "    while(len(lemms)<lim):\n",
    "        lemms.append('')\n",
    "    if len(lemms)>lim:\n",
    "        lemms = lemms[:lim]\n",
    "    return lemms\n",
    "\n",
    "x_words = []\n",
    "for index,x in df.iterrows():\n",
    "    if(index%10000==0):\n",
    "        print(\"%d/%d\"%(index,df.shape[0]))\n",
    "    t1 = len_force(preproc_string(str(x['Title'])),6)\n",
    "    t2 = len_force(preproc_string(str(x['LocationNormalized'])),4)\n",
    "    t3 = len_force(preproc_string(str(x['ContractTime'])),3)\n",
    "    t4 = len_force(preproc_string(str(x['Company'])),7)\n",
    "    t5 = len_force(preproc_string(str(x['FullDescription'])),30)\n",
    "    final = t1 + [''] + t2 + [''] + t3 + [''] + t4 + [''] + t5\n",
    "    x_words.append(final)"
   ]
  },
  {
   "cell_type": "code",
   "execution_count": 53,
   "metadata": {},
   "outputs": [],
   "source": [
    "y = df['SalaryNormalized']"
   ]
  },
  {
   "cell_type": "markdown",
   "metadata": {},
   "source": [
    "### Embeddings \n",
    "\n",
    "En lugar de entrenar nuestros vectores embeddings utilizaremos el archivo __[Glove](https://www.kaggle.com/terenceliu4444/glove6b100dtxt#glove.6B.100d.txt)__ el cual cuenta con las representaciones vectoriales (de dimensionalidad 100) ya entrenadas sobre una amplia base de datos. Puede encontrar más detalle en https://nlp.stanford.edu/projects/glove/"
   ]
  },
  {
   "cell_type": "code",
   "execution_count": 54,
   "metadata": {},
   "outputs": [],
   "source": [
    "## embedding dictionary\n",
    "embedd = {}\n",
    "f = open(\"all/glove.6B.100d.txt\")\n",
    "for line in f:\n",
    "    values = line.split()\n",
    "    word = values[0]\n",
    "    coefs = np.asarray(values[1:],dtype='float32')\n",
    "    embedd[word] = coefs\n",
    "f.close()"
   ]
  },
  {
   "cell_type": "code",
   "execution_count": null,
   "metadata": {},
   "outputs": [],
   "source": [
    "# label current data\n",
    "vocab_index = {}\n",
    "embedd_matrix = []\n",
    "x = -np.ones((len(x_words),len(x_words[0])),dtype='int')\n",
    "for i in range(len(x_words)):\n",
    "    if(i%10000==0):\n",
    "        print(\"%d/%d\"%(i,df.shape[0]))\n",
    "    for j in range(len(x_words[0])):\n",
    "        term = x_words[i][j]\n",
    "        if term not in vocab_index:\n",
    "            if term in embedd:\n",
    "                embedd_matrix.append(embedd[term])\n",
    "                vocab_index[term] = len(vocab_index)\n",
    "        if term in vocab_index:\n",
    "            x[i,j] = vocab_index[term]\n",
    "x[x==-1] = len(vocab_index)\n",
    "embedd_matrix.append(np.zeros(100))"
   ]
  },
  {
   "cell_type": "code",
   "execution_count": null,
   "metadata": {},
   "outputs": [
    {
     "name": "stdout",
     "output_type": "stream",
     "text": [
      "0/244768\n",
      "10000/244768\n",
      "20000/244768\n",
      "30000/244768\n",
      "40000/244768\n",
      "50000/244768\n",
      "60000/244768\n",
      "70000/244768\n",
      "80000/244768\n",
      "90000/244768\n",
      "100000/244768\n",
      "110000/244768\n",
      "120000/244768\n",
      "130000/244768\n",
      "140000/244768\n",
      "150000/244768\n",
      "160000/244768\n",
      "170000/244768\n",
      "180000/244768\n",
      "190000/244768\n",
      "200000/244768\n",
      "210000/244768\n",
      "220000/244768\n",
      "230000/244768\n",
      "240000/244768\n"
     ]
    }
   ],
   "source": [
    "# save, just in case\n",
    "np.save(\"all/x.npy\",x)\n",
    "np.save(\"all/e.npy\",embedd_matrix)\n",
    "np.save(\"all/y.npy\",y)"
   ]
  },
  {
   "cell_type": "markdown",
   "metadata": {},
   "source": [
    "### Modelo"
   ]
  },
  {
   "cell_type": "code",
   "execution_count": 1,
   "metadata": {},
   "outputs": [
    {
     "ename": "NameError",
     "evalue": "name 'x' is not defined",
     "output_type": "error",
     "traceback": [
      "\u001b[0;31m---------------------------------------------------------------------------\u001b[0m",
      "\u001b[0;31mNameError\u001b[0m                                 Traceback (most recent call last)",
      "\u001b[0;32m<ipython-input-1-64b3384dff29>\u001b[0m in \u001b[0;36m<module>\u001b[0;34m()\u001b[0m\n\u001b[0;32m----> 1\u001b[0;31m \u001b[0mx_tr\u001b[0m \u001b[0;34m=\u001b[0m \u001b[0mx\u001b[0m\u001b[0;34m[\u001b[0m\u001b[0;34m:\u001b[0m\u001b[0;36m210000\u001b[0m\u001b[0;34m]\u001b[0m\u001b[0;34m\u001b[0m\u001b[0;34m\u001b[0m\u001b[0m\n\u001b[0m\u001b[1;32m      2\u001b[0m \u001b[0mx_tr\u001b[0m \u001b[0;34m=\u001b[0m \u001b[0mx\u001b[0m\u001b[0;34m[\u001b[0m\u001b[0;34m:\u001b[0m\u001b[0;36m210000\u001b[0m\u001b[0;34m]\u001b[0m\u001b[0;34m\u001b[0m\u001b[0;34m\u001b[0m\u001b[0m\n",
      "\u001b[0;31mNameError\u001b[0m: name 'x' is not defined"
     ]
    }
   ],
   "source": [
    "x_tr = x[:210000]\n",
    "y_tr = y[:210000]\n",
    "x_te = x[210000:]\n",
    "y_te = y[210000:]"
   ]
  },
  {
   "cell_type": "code",
   "execution_count": null,
   "metadata": {},
   "outputs": [],
   "source": [
    "def model_salary():\n",
    "    max_input_length = 150\n",
    "    inlayer = keras.layers.Embedding(input_dim=x.shape[1:],output_dim=100,\n",
    "        weights=[embedd_matrix],input_length=max_input_lenght,trainable=False)\n",
    "    front = inlayer\n",
    "    #\n",
    "    for n_filters in (200,300):\n",
    "        for _ in range(2):\n",
    "            front = keras.layers.Conv1D(n_filters,5,padding='same',\n",
    "                activation='relu',kernel_initializer='he_uniform',\n",
    "                                       padding=\"same\")(front)\n",
    "        front = keras.layers.MaxPooling1D(pool_size=(2,2))(front)\n",
    "    #\n",
    "    front = keras.layers.Flatten()(front)\n",
    "    front = keras.layers.Dropout(0.5)(front)\n",
    "    for k in range(3):\n",
    "        front = keras.layers.Dense(550,activation='relu',\n",
    "                                  kernel_initializer='he_uniform')(front)\n",
    "        front = keras.layers.Dropout(0.5)(front)\n",
    "    front = keras.layers.Dense(1,activation='sigmoid',\n",
    "                              kernel_initializer='glorot_uniform')(front)\n",
    "    miny = 0.5*np.min(y_tr)\n",
    "    maxy = 1.5*np.max(y_tr)\n",
    "    front = keras.layers.Lambda(lambda x: miny+x*(maxy-miny))\n",
    "    #\n",
    "    model = keras.models.Model(inputs=inlayer,outputs=front)\n",
    "    return model"
   ]
  },
  {
   "cell_type": "code",
   "execution_count": null,
   "metadata": {},
   "outputs": [],
   "source": [
    "model = model_salary()\n",
    "model.summary()"
   ]
  },
  {
   "cell_type": "code",
   "execution_count": null,
   "metadata": {},
   "outputs": [],
   "source": [
    "model = model_salary()\n",
    "\n",
    "model.compile(loss='mean_absolute_error',optimizer='adam')\n",
    "\n",
    "history = model.fit(Xtrain, y_train, validation_data=(Xval, y_val),\n",
    "          epochs=25,batch_size=256)\n",
    "\n",
    "model.save(\"model.h5\")"
   ]
  },
  {
   "cell_type": "code",
   "execution_count": null,
   "metadata": {},
   "outputs": [],
   "source": [
    "import json\n",
    "\n",
    "with open('history.json', 'w') as f:\n",
    "    json.dump(history.history,f)"
   ]
  },
  {
   "cell_type": "markdown",
   "metadata": {},
   "source": [
    "### Evaluación de predicciones\n",
    "Para las predicciones evalúe la métrica *Mean Absolute Error* (MAE)\n",
    "\n",
    "```python\n",
    "from sklearn.metrics import mean_absolute_error\n",
    "print(\"MAE on train: \",mean_absolute_error(y_train, model.predict(Xtrain)))\n",
    "print(\"MAE on validation: \",mean_absolute_error(y_val, model.predict(Xval)))\n",
    "```\n",
    "\n",
    "> **Intente resolver el problema experimentando con las ayudas que se entregan en el código y lo aprendido hasta ahora en el curso. Se espera que llegue a un MAE menor a 7000 en el conjunto de pruebas. No olvide documentar todo lo experimentando en este Informe Jupyter así como el argumento de sus decisiones.**"
   ]
  },
  {
   "cell_type": "code",
   "execution_count": null,
   "metadata": {},
   "outputs": [],
   "source": []
  }
 ],
 "metadata": {
  "accelerator": "GPU",
  "colab": {
   "collapsed_sections": [],
   "name": "Enunciado_T2.ipynb",
   "provenance": [],
   "version": "0.3.2"
  },
  "kernelspec": {
   "display_name": "Python 3",
   "language": "python",
   "name": "python3"
  },
  "language_info": {
   "codemirror_mode": {
    "name": "ipython",
    "version": 3
   },
   "file_extension": ".py",
   "mimetype": "text/x-python",
   "name": "python",
   "nbconvert_exporter": "python",
   "pygments_lexer": "ipython3",
   "version": "3.6.6"
  }
 },
 "nbformat": 4,
 "nbformat_minor": 1
}
