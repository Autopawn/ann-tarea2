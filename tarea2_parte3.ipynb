{
 "cells": [
  {
   "cell_type": "code",
   "execution_count": 66,
   "metadata": {},
   "outputs": [
    {
     "name": "stderr",
     "output_type": "stream",
     "text": [
      "[nltk_data] Downloading package averaged_perceptron_tagger to\n",
      "[nltk_data]     /home/fcasas/nltk_data...\n",
      "[nltk_data]   Package averaged_perceptron_tagger is already up-to-\n",
      "[nltk_data]       date!\n"
     ]
    },
    {
     "data": {
      "text/plain": [
       "True"
      ]
     },
     "execution_count": 66,
     "metadata": {},
     "output_type": "execute_result"
    }
   ],
   "source": [
    "import json\n",
    "\n",
    "import pandas as pd\n",
    "import numpy as np\n",
    "import re, os, sys\n",
    "import matplotlib.pyplot as plt\n",
    "\n",
    "import nltk\n",
    "import nltk.corpus\n",
    "\n",
    "import keras\n",
    "\n",
    "nltk.download('averaged_perceptron_tagger')"
   ]
  },
  {
   "cell_type": "markdown",
   "metadata": {
    "colab_type": "text",
    "id": "3t7CRUJ9sweH"
   },
   "source": [
    "<a id=\"cuarto\"></a>\n",
    "## 3. CNN sobre texto\n",
    "\n",
    "Cuando oimos sobre redes neuronales convolucionales (CNN) normalmente pensamos en visión artificial. Las CNN fueron responsables de los principales avances en la clasificación de imágenes y son el núcleo de la mayoría de los sistemas de *Computer Vision* en la actualidad, desde el etiquetado automático de fotos de Facebook hasta los autos que conducen por sí mismos.\n",
    "\n",
    "Más recientemente, también hemos empezado a aplicar CNN a problemas de procesamiento del lenguaje natural (NLP) y hemos obtenido resultados interesantes. Como sabemos, las redes convolucionales tienen importantes ventajas como invarianza a rotaciones y traslaciones así como la conectividad local (características de nivel inferior en una representación de nivel superior), además de lo que las hace fuertemente ventajosas, el **compartir** parámetros.\n",
    "\n",
    "\n",
    "**¿Cómo se aplica esto a NLP?**  \n",
    "En esta experimentación apicaremos una red CNN al dataset  __[Adzuna](https://www.kaggle.com/c/job-salary-prediction)__ que contiene cientos de miles de registros que en su mayoría corresponden a texto no estructurado versus sólo unos pocos estructurados. Los registros pueden estar en varios formatos diferentes debido a los cientos de diferentes fuentes de registros, los cuales corresponden a anuncios de empleadores en busca de trabajadores.  \n",
    "Es decir, cada fila es un anuncio que, en estricto rigor, representa una sentencia típicamente trabajada como vectores de word embeddings como **word2vec** o **GloVe**. Así, para una frase de 10 palabras bajo representaciones de *embeddings* utilizando 100 dimensiones tendríamos una matriz de 10 × 100 como entrada, lo que simularía nuestra \"imagen\".\n",
    "\n",
    "\n",
    "Su tarea es entonces, predecir el salario (valor continuo) de un determinado anuncio en base al texto indicado en éste. Igualmente puede valerse de otros atributos del anuncio como por ejemplo la ubicación, tipo de contrato, etc. \n",
    "\n",
    "\n",
    "A continuación se presenta un código de guía para leer los archivos y pre-procesarlos. Deberá añadir y realizar lo que estime conveniente."
   ]
  },
  {
   "cell_type": "code",
   "execution_count": 2,
   "metadata": {},
   "outputs": [
    {
     "data": {
      "text/html": [
       "<div>\n",
       "<style scoped>\n",
       "    .dataframe tbody tr th:only-of-type {\n",
       "        vertical-align: middle;\n",
       "    }\n",
       "\n",
       "    .dataframe tbody tr th {\n",
       "        vertical-align: top;\n",
       "    }\n",
       "\n",
       "    .dataframe thead th {\n",
       "        text-align: right;\n",
       "    }\n",
       "</style>\n",
       "<table border=\"1\" class=\"dataframe\">\n",
       "  <thead>\n",
       "    <tr style=\"text-align: right;\">\n",
       "      <th></th>\n",
       "      <th>Id</th>\n",
       "      <th>Title</th>\n",
       "      <th>FullDescription</th>\n",
       "      <th>LocationRaw</th>\n",
       "      <th>LocationNormalized</th>\n",
       "      <th>ContractType</th>\n",
       "      <th>ContractTime</th>\n",
       "      <th>Company</th>\n",
       "      <th>Category</th>\n",
       "      <th>SalaryRaw</th>\n",
       "      <th>SalaryNormalized</th>\n",
       "      <th>SourceName</th>\n",
       "    </tr>\n",
       "  </thead>\n",
       "  <tbody>\n",
       "    <tr>\n",
       "      <th>0</th>\n",
       "      <td>12612628</td>\n",
       "      <td>Engineering Systems Analyst</td>\n",
       "      <td>Engineering Systems Analyst Dorking Surrey Sal...</td>\n",
       "      <td>Dorking, Surrey, Surrey</td>\n",
       "      <td>Dorking</td>\n",
       "      <td>NaN</td>\n",
       "      <td>permanent</td>\n",
       "      <td>Gregory Martin International</td>\n",
       "      <td>Engineering Jobs</td>\n",
       "      <td>20000 - 30000/annum 20-30K</td>\n",
       "      <td>25000</td>\n",
       "      <td>cv-library.co.uk</td>\n",
       "    </tr>\n",
       "    <tr>\n",
       "      <th>1</th>\n",
       "      <td>12612830</td>\n",
       "      <td>Stress Engineer Glasgow</td>\n",
       "      <td>Stress Engineer Glasgow Salary **** to **** We...</td>\n",
       "      <td>Glasgow, Scotland, Scotland</td>\n",
       "      <td>Glasgow</td>\n",
       "      <td>NaN</td>\n",
       "      <td>permanent</td>\n",
       "      <td>Gregory Martin International</td>\n",
       "      <td>Engineering Jobs</td>\n",
       "      <td>25000 - 35000/annum 25-35K</td>\n",
       "      <td>30000</td>\n",
       "      <td>cv-library.co.uk</td>\n",
       "    </tr>\n",
       "    <tr>\n",
       "      <th>2</th>\n",
       "      <td>12612844</td>\n",
       "      <td>Modelling and simulation analyst</td>\n",
       "      <td>Mathematical Modeller / Simulation Analyst / O...</td>\n",
       "      <td>Hampshire, South East, South East</td>\n",
       "      <td>Hampshire</td>\n",
       "      <td>NaN</td>\n",
       "      <td>permanent</td>\n",
       "      <td>Gregory Martin International</td>\n",
       "      <td>Engineering Jobs</td>\n",
       "      <td>20000 - 40000/annum 20-40K</td>\n",
       "      <td>30000</td>\n",
       "      <td>cv-library.co.uk</td>\n",
       "    </tr>\n",
       "    <tr>\n",
       "      <th>3</th>\n",
       "      <td>12613049</td>\n",
       "      <td>Engineering Systems Analyst / Mathematical Mod...</td>\n",
       "      <td>Engineering Systems Analyst / Mathematical Mod...</td>\n",
       "      <td>Surrey, South East, South East</td>\n",
       "      <td>Surrey</td>\n",
       "      <td>NaN</td>\n",
       "      <td>permanent</td>\n",
       "      <td>Gregory Martin International</td>\n",
       "      <td>Engineering Jobs</td>\n",
       "      <td>25000 - 30000/annum 25K-30K negotiable</td>\n",
       "      <td>27500</td>\n",
       "      <td>cv-library.co.uk</td>\n",
       "    </tr>\n",
       "    <tr>\n",
       "      <th>4</th>\n",
       "      <td>12613647</td>\n",
       "      <td>Pioneer, Miser Engineering Systems Analyst</td>\n",
       "      <td>Pioneer, Miser  Engineering Systems Analyst Do...</td>\n",
       "      <td>Surrey, South East, South East</td>\n",
       "      <td>Surrey</td>\n",
       "      <td>NaN</td>\n",
       "      <td>permanent</td>\n",
       "      <td>Gregory Martin International</td>\n",
       "      <td>Engineering Jobs</td>\n",
       "      <td>20000 - 30000/annum 20-30K</td>\n",
       "      <td>25000</td>\n",
       "      <td>cv-library.co.uk</td>\n",
       "    </tr>\n",
       "  </tbody>\n",
       "</table>\n",
       "</div>"
      ],
      "text/plain": [
       "         Id                                              Title  \\\n",
       "0  12612628                        Engineering Systems Analyst   \n",
       "1  12612830                            Stress Engineer Glasgow   \n",
       "2  12612844                   Modelling and simulation analyst   \n",
       "3  12613049  Engineering Systems Analyst / Mathematical Mod...   \n",
       "4  12613647         Pioneer, Miser Engineering Systems Analyst   \n",
       "\n",
       "                                     FullDescription  \\\n",
       "0  Engineering Systems Analyst Dorking Surrey Sal...   \n",
       "1  Stress Engineer Glasgow Salary **** to **** We...   \n",
       "2  Mathematical Modeller / Simulation Analyst / O...   \n",
       "3  Engineering Systems Analyst / Mathematical Mod...   \n",
       "4  Pioneer, Miser  Engineering Systems Analyst Do...   \n",
       "\n",
       "                         LocationRaw LocationNormalized ContractType  \\\n",
       "0            Dorking, Surrey, Surrey            Dorking          NaN   \n",
       "1        Glasgow, Scotland, Scotland            Glasgow          NaN   \n",
       "2  Hampshire, South East, South East          Hampshire          NaN   \n",
       "3     Surrey, South East, South East             Surrey          NaN   \n",
       "4     Surrey, South East, South East             Surrey          NaN   \n",
       "\n",
       "  ContractTime                       Company          Category  \\\n",
       "0    permanent  Gregory Martin International  Engineering Jobs   \n",
       "1    permanent  Gregory Martin International  Engineering Jobs   \n",
       "2    permanent  Gregory Martin International  Engineering Jobs   \n",
       "3    permanent  Gregory Martin International  Engineering Jobs   \n",
       "4    permanent  Gregory Martin International  Engineering Jobs   \n",
       "\n",
       "                                SalaryRaw  SalaryNormalized        SourceName  \n",
       "0              20000 - 30000/annum 20-30K             25000  cv-library.co.uk  \n",
       "1              25000 - 35000/annum 25-35K             30000  cv-library.co.uk  \n",
       "2              20000 - 40000/annum 20-40K             30000  cv-library.co.uk  \n",
       "3  25000 - 30000/annum 25K-30K negotiable             27500  cv-library.co.uk  \n",
       "4              20000 - 30000/annum 20-30K             25000  cv-library.co.uk  "
      ]
     },
     "execution_count": 2,
     "metadata": {},
     "output_type": "execute_result"
    }
   ],
   "source": [
    "stoplist = nltk.corpus.stopwords.words('english')\n",
    "df = pd.read_csv(\"all/Train_rev1.csv\")\n",
    "df.head()"
   ]
  },
  {
   "cell_type": "code",
   "execution_count": 3,
   "metadata": {},
   "outputs": [],
   "source": [
    "POS_TO_WORDNET = {\n",
    "    'JJ':   nltk.corpus.wordnet.ADJ,\n",
    "    'JJR':  nltk.corpus.wordnet.ADJ,\n",
    "    'JJS':  nltk.corpus.wordnet.ADJ,\n",
    "    'RB':   nltk.corpus.wordnet.ADV,\n",
    "    'RBR':  nltk.corpus.wordnet.ADV,\n",
    "    'RBS':  nltk.corpus.wordnet.ADV,\n",
    "    'NN':   nltk.corpus.wordnet.NOUN,\n",
    "    'NNP':  nltk.corpus.wordnet.NOUN,\n",
    "    'NNS':  nltk.corpus.wordnet.NOUN,\n",
    "    'NNPS': nltk.corpus.wordnet.NOUN,\n",
    "    'VB':   nltk.corpus.wordnet.VERB,\n",
    "    'VBG':  nltk.corpus.wordnet.VERB,\n",
    "    'VBD':  nltk.corpus.wordnet.VERB,\n",
    "    'VBN':  nltk.corpus.wordnet.VERB,\n",
    "    'VBP':  nltk.corpus.wordnet.VERB,\n",
    "    'VBZ':  nltk.corpus.wordnet.VERB,\n",
    "}\n",
    "\n",
    "lemmatizer = nltk.WordNetLemmatizer()\n",
    "\n",
    "def penn_to_wn(tag):\n",
    "    return POS_TO_WORDNET.get(tag,nltk.corpus.wordnet.NOUN)\n",
    "\n",
    "# precompile regexes\n",
    "re1 = re.compile(r'[^\\w]')\n",
    "re2 = re.compile(r'[^\\w]')\n",
    "re3 = re.compile(r'\\b[a-z]\\b')\n",
    "re4 = re.compile(r'\\b[a-z][a-z]\\b')\n",
    "re5 = re.compile(r'\\b[0-9]\\b')\n",
    "re6 = re.compile(r'\\b[0-9][0-9]\\b')\n",
    "re7 = re.compile(r'\\b[0-9][0-9][0-9]\\b')\n",
    "re8 = re.compile(r'[^\\w.]')\n",
    "\n",
    "def preproc_string(s):\n",
    "    s = s.lower()\n",
    "    s = re1.sub(' ',s)\n",
    "    s = re2.sub(' ',s)\n",
    "    s = re3.sub(' ',s)\n",
    "    s = re4.sub(' ',s)\n",
    "    s = re5.sub(' ',s)\n",
    "    s = re6.sub(' ',s)\n",
    "    s = re7.sub(' ',s)\n",
    "    s = re8.sub(' ',s)\n",
    "    text = nltk.word_tokenize(s)\n",
    "    # pos tagging\n",
    "    tags = nltk.pos_tag(text)\n",
    "    # lemmatization\n",
    "    lemms = [lemmatizer.lemmatize(x,penn_to_wn(y)) for x,y in tags]\n",
    "    # remove stopwords\n",
    "    lemms = [x for x in lemms if x not in stoplist]\n",
    "    return lemms"
   ]
  },
  {
   "cell_type": "markdown",
   "metadata": {},
   "source": [
    "> Para usar la lematización correctamente, se usa el POS tagger para obtener los tags de cada palabra dentro de su oración correspondiente, estos tags le permiten al WordLemmatizer recortar correctamente la palabra, dado que de otra manera las considera un *noun*.\n",
    "\n",
    "> Para acelerar el preprocesamiento (que tomó un tiempo considerable) se probó a compilar las expresiones regulares por separado antes de utilizarlas."
   ]
  },
  {
   "cell_type": "code",
   "execution_count": 63,
   "metadata": {},
   "outputs": [
    {
     "name": "stdout",
     "output_type": "stream",
     "text": [
      "Engineering Systems Analyst Dorking Surrey Salary ****K Our client is located in Dorking, Surrey and are looking for Engineering Systems Analyst our client provides specialist software development Keywords Mathematical Modelling, Risk Analysis, System Modelling, Optimisation, MISER, PIONEEER Engineering Systems Analyst Dorking Surrey Salary ****K\n",
      "\n",
      "['engineering', 'system', 'analyst', 'dorking', 'surrey', 'salary', 'client', 'locate', 'dorking', 'surrey', 'look', 'engineering', 'system', 'analyst', 'client', 'provide', 'specialist', 'software', 'development', 'keywords', 'mathematical', 'modelling', 'risk', 'analysis', 'system', 'model', 'optimisation', 'miser', 'pioneeer', 'engineering', 'system', 'analyst', 'dorking', 'surrey', 'salary']\n"
     ]
    }
   ],
   "source": [
    "# Example preprocessed sentence.\n",
    "print(df['FullDescription'][0])\n",
    "print()\n",
    "print(preproc_string(df['FullDescription'][0]))"
   ]
  },
  {
   "cell_type": "markdown",
   "metadata": {},
   "source": [
    "> A continuación se crea una oración que mezcla todos los campos de texto, a cada uno se asignó una cantidad fija de palabras, las palabras sobre esta son descartadas. Se consideró razonable poner una separación entre las palabras de los campos y hacer que estos ocupen intervalos fijos de la palabra final, de manera que la red aproveche esa información posicional."
   ]
  },
  {
   "cell_type": "code",
   "execution_count": null,
   "metadata": {
    "scrolled": false
   },
   "outputs": [],
   "source": [
    "def len_force(lemms,lim=5):\n",
    "    while(len(lemms)<lim):\n",
    "        lemms.append('')\n",
    "    if len(lemms)>lim:\n",
    "        lemms = lemms[:lim]\n",
    "    return lemms\n",
    "\n",
    "x_words = []\n",
    "for index,x in df.iterrows():\n",
    "    if(index%10000==0):\n",
    "        print(\"%d/%d\"%(index,df.shape[0]))\n",
    "    t1 = len_force(preproc_string(str(x['Title'])),6)\n",
    "    t2 = len_force(preproc_string(str(x['LocationNormalized'])),4)\n",
    "    t3 = len_force(preproc_string(str(x['ContractTime'])),3)\n",
    "    t4 = len_force(preproc_string(str(x['Company'])),7)\n",
    "    t5 = len_force(preproc_string(str(x['FullDescription'])),30)\n",
    "    final = t1 + [''] + t2 + [''] + t3 + [''] + t4 + [''] + t5\n",
    "    x_words.append(final)"
   ]
  },
  {
   "cell_type": "markdown",
   "metadata": {},
   "source": [
    "### Embeddings \n",
    "\n",
    "En lugar de entrenar nuestros vectores embeddings utilizaremos el archivo __[Glove](https://www.kaggle.com/terenceliu4444/glove6b100dtxt#glove.6B.100d.txt)__ el cual cuenta con las representaciones vectoriales (de dimensionalidad 100) ya entrenadas sobre una amplia base de datos. Puede encontrar más detalle en https://nlp.stanford.edu/projects/glove/"
   ]
  },
  {
   "cell_type": "markdown",
   "metadata": {},
   "source": [
    "> Para hacer más pequeña la matriz de embeddings, todas las palabras desconocidas por Glove se reducen a la última palabra (cuyo embedding es un vector de puros zeros)."
   ]
  },
  {
   "cell_type": "code",
   "execution_count": 6,
   "metadata": {},
   "outputs": [],
   "source": [
    "y = df['SalaryNormalized']"
   ]
  },
  {
   "cell_type": "code",
   "execution_count": null,
   "metadata": {},
   "outputs": [],
   "source": [
    "## embedding dictionary\n",
    "embedd = {}\n",
    "f = open(\"all/glove.6B.100d.txt\")\n",
    "for line in f:\n",
    "    values = line.split()\n",
    "    word = values[0]\n",
    "    coefs = np.asarray(values[1:],dtype='float32')\n",
    "    embedd[word] = coefs\n",
    "f.close()"
   ]
  },
  {
   "cell_type": "code",
   "execution_count": null,
   "metadata": {},
   "outputs": [],
   "source": [
    "# label current data\n",
    "vocab_index = {}\n",
    "embedd_matrix = []\n",
    "x = -np.ones((len(x_words),len(x_words[0])),dtype='int')\n",
    "for i in range(len(x_words)):\n",
    "    for j in range(len(x_words[0])):\n",
    "        term = x_words[i][j]\n",
    "        if term not in vocab_index:\n",
    "            if term in embedd:\n",
    "                embedd_matrix.append(embedd[term])\n",
    "                vocab_index[term] = len(vocab_index)\n",
    "        if term in vocab_index:\n",
    "            x[i,j] = vocab_index[term]\n",
    "x[x==-1] = len(vocab_index)\n",
    "embedd_matrix.append(np.zeros(100))\n",
    "embedd_matrix = np.array(embedd_matrix)"
   ]
  },
  {
   "cell_type": "code",
   "execution_count": 54,
   "metadata": {},
   "outputs": [],
   "source": [
    "# save, just in case\n",
    "np.save(\"all/x.npy\",x)\n",
    "np.save(\"all/e.npy\",embedd_matrix)\n",
    "np.save(\"all/y.npy\",y)"
   ]
  },
  {
   "cell_type": "code",
   "execution_count": 8,
   "metadata": {},
   "outputs": [],
   "source": [
    "# load from saved\n",
    "x = np.load(\"all/x.npy\")\n",
    "embedd_matrix = np.load(\"all/e.npy\")\n",
    "y = np.load(\"all/y.npy\")\n",
    "\n",
    "# SHUFFLE THE DATA:\n",
    "indexes = np.arange(x.shape[0])\n",
    "np.random.shuffle(indexes)\n",
    "x = x[indexes]\n",
    "y = y[indexes]"
   ]
  },
  {
   "cell_type": "code",
   "execution_count": 9,
   "metadata": {},
   "outputs": [
    {
     "name": "stdout",
     "output_type": "stream",
     "text": [
      "x\n",
      "[[    0     1     2 ...    24 31594     0]\n",
      " [   25    26    27 ...    46    47    13]\n",
      " [   19    48     2 ...    66    67    68]\n",
      " ...\n",
      " [  544   996 31594 ...  1595   588   633]\n",
      " [ 1001   996 31594 ...    12   996 31594]\n",
      " [ 1057 31594 31594 ...  3348    74   718]]\n",
      "y\n",
      "[25000 30000 30000 ... 22800 22800 42500]\n",
      "embedd_matrix.shape\n",
      "(31595, 100)\n"
     ]
    }
   ],
   "source": [
    "print(\"x\")\n",
    "print(x)\n",
    "print(\"y\")\n",
    "print(np.array(y))\n",
    "print(\"embedd_matrix.shape\")\n",
    "print(embedd_matrix.shape)"
   ]
  },
  {
   "cell_type": "markdown",
   "metadata": {},
   "source": [
    " > La data fue shuffleada antes de ser separada en los conjuntos de *training* y *testing* esto debido a que se encontró que el training era muy errático a la hora de entrenar y no se lograba el resultado pedido al final, por lo que se sospechó que podría deberse a que la data de entrenamiento compartía características diferentes a la de training. Efectivamente fue así."
   ]
  },
  {
   "cell_type": "markdown",
   "metadata": {},
   "source": [
    "**Intente resolver el problema experimentando con las ayudas que se entregan en el código y lo aprendido hasta ahora en el curso. Se espera que llegue a un MAE menor a 7000 en el conjunto de pruebas. No olvide documentar todo lo experimentando en este Informe Jupyter así como el argumento de sus decisiones.**"
   ]
  },
  {
   "cell_type": "markdown",
   "metadata": {},
   "source": [
    "### Modelo"
   ]
  },
  {
   "cell_type": "code",
   "execution_count": 10,
   "metadata": {},
   "outputs": [],
   "source": [
    "x_tr = x[:210000]\n",
    "y_tr = y[:210000]\n",
    "x_te = x[210000:]\n",
    "y_te = y[210000:]"
   ]
  },
  {
   "cell_type": "markdown",
   "metadata": {},
   "source": [
    "> Se crearon redes convulucionales 1D con estructura CxCxP, esta estructura se repitió 3 veces, mientras se disminuían los tamaños de kernel (de 5 a 3) y se aumentaba la cantidad de filtros. (Por lo aprendido en la parte 1 de esta tarea)\n",
    "\n",
    "> Un aspecto notable de la red es que, aunque se resuelve un problema de regresión, se usó tanh como última activación, esta luego fue escalada de -5 a 5 desviaciones estándar de la data de entrenamiento, con esto se evitó que la red divergiera.\n",
    "\n",
    "> Inicialmente se utilizó dropout para regularización, pero se descartó dado que no mejoraba el error de validación (aunque el error de testing lograba superar el umbral propuesto). Finalmente se concluyó que el error de validación no disminuía porque la data no fue shuffleada, una vez se shuffleó como se indica arriba, se pudo pasar este márgen."
   ]
  },
  {
   "cell_type": "code",
   "execution_count": 64,
   "metadata": {},
   "outputs": [],
   "source": [
    "def model_salary():\n",
    "    max_input_length = 54\n",
    "    inlayer = keras.layers.Input(shape=(max_input_length,))\n",
    "    front = inlayer\n",
    "    #\n",
    "    front = keras.layers.Embedding(input_dim=embedd_matrix.shape[0],output_dim=100,\n",
    "        weights=[embedd_matrix],\n",
    "        input_length=max_input_length,trainable=False)(front)\n",
    "    #\n",
    "    n_filters = [130,200,280]\n",
    "    pool_sizes = [2,2,2]\n",
    "    ksizes = [5,4,3]\n",
    "    for i in range(len(n_filters)):\n",
    "        for _ in range(2):\n",
    "            front = keras.layers.Conv1D(n_filters[i],ksizes[i],padding='same',\n",
    "                activation='relu',kernel_initializer='he_uniform')(front)\n",
    "        front = keras.layers.MaxPooling1D(pool_size=pool_sizes[i])(front)\n",
    "        front = keras.layers.BatchNormalization()(front)\n",
    "    #\n",
    "    front = keras.layers.Flatten()(front)\n",
    "    front = keras.layers.BatchNormalization()(front)\n",
    "    for k in range(3):\n",
    "        front = keras.layers.Dense(1000-k*100,activation='relu',\n",
    "                                  kernel_initializer='he_uniform')(front)\n",
    "        front = keras.layers.BatchNormalization()(front)\n",
    "    front = keras.layers.Dense(1,activation='tanh',\n",
    "                              kernel_initializer='glorot_uniform')(front)\n",
    "    mean = np.mean(y_tr)\n",
    "    std = np.std(y_tr)\n",
    "    \n",
    "    front = keras.layers.Lambda(lambda x: mean+5*x*std)(front)\n",
    "    #\n",
    "    model = keras.models.Model(inputs=inlayer,outputs=front)\n",
    "    return model"
   ]
  },
  {
   "cell_type": "code",
   "execution_count": 65,
   "metadata": {},
   "outputs": [
    {
     "name": "stdout",
     "output_type": "stream",
     "text": [
      "_________________________________________________________________\n",
      "Layer (type)                 Output Shape              Param #   \n",
      "=================================================================\n",
      "input_36 (InputLayer)        (None, 54)                0         \n",
      "_________________________________________________________________\n",
      "embedding_36 (Embedding)     (None, 54, 100)           3159500   \n",
      "_________________________________________________________________\n",
      "conv1d_270 (Conv1D)          (None, 54, 130)           65130     \n",
      "_________________________________________________________________\n",
      "conv1d_271 (Conv1D)          (None, 54, 130)           84630     \n",
      "_________________________________________________________________\n",
      "max_pooling1d_133 (MaxPoolin (None, 27, 130)           0         \n",
      "_________________________________________________________________\n",
      "batch_normalization_229 (Bat (None, 27, 130)           520       \n",
      "_________________________________________________________________\n",
      "conv1d_272 (Conv1D)          (None, 27, 200)           104200    \n",
      "_________________________________________________________________\n",
      "conv1d_273 (Conv1D)          (None, 27, 200)           160200    \n",
      "_________________________________________________________________\n",
      "max_pooling1d_134 (MaxPoolin (None, 13, 200)           0         \n",
      "_________________________________________________________________\n",
      "batch_normalization_230 (Bat (None, 13, 200)           800       \n",
      "_________________________________________________________________\n",
      "conv1d_274 (Conv1D)          (None, 13, 280)           168280    \n",
      "_________________________________________________________________\n",
      "conv1d_275 (Conv1D)          (None, 13, 280)           235480    \n",
      "_________________________________________________________________\n",
      "max_pooling1d_135 (MaxPoolin (None, 6, 280)            0         \n",
      "_________________________________________________________________\n",
      "batch_normalization_231 (Bat (None, 6, 280)            1120      \n",
      "_________________________________________________________________\n",
      "flatten_33 (Flatten)         (None, 1680)              0         \n",
      "_________________________________________________________________\n",
      "batch_normalization_232 (Bat (None, 1680)              6720      \n",
      "_________________________________________________________________\n",
      "dense_129 (Dense)            (None, 1000)              1681000   \n",
      "_________________________________________________________________\n",
      "batch_normalization_233 (Bat (None, 1000)              4000      \n",
      "_________________________________________________________________\n",
      "dense_130 (Dense)            (None, 900)               900900    \n",
      "_________________________________________________________________\n",
      "batch_normalization_234 (Bat (None, 900)               3600      \n",
      "_________________________________________________________________\n",
      "dense_131 (Dense)            (None, 800)               720800    \n",
      "_________________________________________________________________\n",
      "batch_normalization_235 (Bat (None, 800)               3200      \n",
      "_________________________________________________________________\n",
      "dense_132 (Dense)            (None, 1)                 801       \n",
      "_________________________________________________________________\n",
      "lambda_31 (Lambda)           (None, 1)                 0         \n",
      "=================================================================\n",
      "Total params: 7,300,881\n",
      "Trainable params: 4,131,401\n",
      "Non-trainable params: 3,169,480\n",
      "_________________________________________________________________\n"
     ]
    }
   ],
   "source": [
    "model = model_salary()\n",
    "model.summary()"
   ]
  },
  {
   "cell_type": "code",
   "execution_count": null,
   "metadata": {
    "scrolled": false
   },
   "outputs": [],
   "source": [
    "EPOCHS = 60\n",
    "\n",
    "model = model_salary()\n",
    "\n",
    "optimizer = keras.optimizers.Adam(lr=0.01,decay=1.0/EPOCHS)\n",
    "\n",
    "model.compile(loss='mean_absolute_error',optimizer=optimizer)\n",
    "\n",
    "history = model.fit(x_tr,y_tr,validation_data=(x_te,y_te),\n",
    "          epochs=EPOCHS,batch_size=350)\n",
    "\n",
    "model.save(\"part2code/model.h5\")"
   ]
  },
  {
   "cell_type": "markdown",
   "metadata": {},
   "source": [
    "> Se notó que la LR escogida fue la mejor, luego de probar varios valores en las primeras epochs del entrenamiento, aparentemente este mismo fue bastante sensible a dicho valor. (Por lo mismo el decay es relativamente bajo). "
   ]
  },
  {
   "cell_type": "code",
   "execution_count": null,
   "metadata": {},
   "outputs": [],
   "source": [
    "# save history\n",
    "with open('part2code/history.json','w') as f:\n",
    "    json.dump(history.history,f)"
   ]
  },
  {
   "cell_type": "code",
   "execution_count": null,
   "metadata": {},
   "outputs": [],
   "source": [
    "# load model\n",
    "model = keras.models.load_model('part2code/model.h5')"
   ]
  },
  {
   "cell_type": "code",
   "execution_count": 70,
   "metadata": {},
   "outputs": [
    {
     "name": "stdout",
     "output_type": "stream",
     "text": [
      "{'val_loss': [10664.684710190584, 10902.187287205548, 9067.835730856814, 8559.597582912313, 8378.477810336102, 8182.467495450873, 7870.55023100669, 7969.3318590145755, 7671.751614945855, 7733.762242731058, 7391.6031384597545, 7267.491157710799, 7146.445958944602, 7231.807003100238, 7434.272525567916, 7116.952978408891, 7164.163378557959, 7039.922270984184, 7043.345797416311, 6958.7488511459, 6909.60410996642, 7044.549594561406, 6912.683143050453, 6925.921267035915, 6880.519402944158, 6840.2425943542285, 6880.119723253737, 6864.333750570748, 6896.452050691369, 6837.449294699868, 6856.321318863835, 6960.949136002844, 6823.9273557772685, 6929.913495207294, 6819.839711118611, 6821.168830994467, 6800.768560445534, 6941.312146119681, 6826.019292839321, 6809.292188410051, 6914.45393216396, 6822.18565459236, 6805.110635419513, 6847.544813258824, 6815.511019528104, 6777.990791584126, 6825.764352025165, 6818.239927345413, 6789.266741272057, 6869.084468723934, 6860.559066470515, 6823.865128062038, 6828.836019039373, 6805.504539774137, 6780.663540569363, 6790.697116674502, 6787.854212599858, 6782.986704531871, 6814.956133698956, 6802.856741163076], 'loss': [29655.682880859375, 10623.083502604166, 9569.126409505208, 8884.449681803386, 8371.072265625, 8004.896223144531, 7723.454479166667, 7509.813768717448, 7315.22916422526, 7113.784823404948, 6950.643664550781, 6819.812140299479, 6671.022209472656, 6556.231962890625, 6442.645822753906, 6352.423229166667, 6241.822041015625, 6169.929384765625, 6084.484069824219, 6003.033990071614, 5915.960585123698, 5860.455796712239, 5805.280593261718, 5727.839463704427, 5673.27242594401, 5619.540246582032, 5564.601254882812, 5511.724750162761, 5455.478638509115, 5407.315401204427, 5377.183474121094, 5333.6058064778645, 5293.155957845052, 5249.412117513021, 5214.504428710938, 5178.736561686198, 5135.327316894532, 5102.018793945313, 5087.223548990885, 5047.446627604167, 5001.3910725911455, 4986.6736328125, 4972.311654459635, 4937.082794189453, 4892.049158121745, 4879.7994173177085, 4856.011794026693, 4830.417873942058, 4795.629042561849, 4797.757040201823, 4757.202462158203, 4742.72911336263, 4718.207782796224, 4687.583096516927, 4678.661040445963, 4657.90038289388, 4629.175585123698, 4615.260755615234, 4591.985141194661, 4587.87805094401]}\n"
     ]
    }
   ],
   "source": [
    "# load history\n",
    "with open('part2code/history.json') as json_data:\n",
    "    history = json.load(json_data)\n",
    "print(history)"
   ]
  },
  {
   "cell_type": "code",
   "execution_count": 77,
   "metadata": {},
   "outputs": [
    {
     "data": {
      "image/png": "[encoded data removed]",
      "text/plain": [
       "<Figure size 576x432 with 1 Axes>"
      ]
     },
     "metadata": {
      "needs_background": "light"
     },
     "output_type": "display_data"
    },
    {
     "name": "stdout",
     "output_type": "stream",
     "text": [
      "val_loss at epoch 60: 6802.856741\n"
     ]
    }
   ],
   "source": [
    "fig = plt.figure(figsize=(8,6))\n",
    "plt.title(\"MAE v/s epoch\")\n",
    "plt.grid(True)\n",
    "plt.plot(1+np.arange(len(history['loss'])),history['loss'],label='loss')\n",
    "plt.plot(1+np.arange(len(history['val_loss'])),history['val_loss'],label='val_loss')\n",
    "plt.legend(loc=\"upper right\")\n",
    "plt.show()\n",
    "\n",
    "print(\"val_loss at epoch %d: %f\"%(len(history['val_loss']),history['val_loss'][-1]))"
   ]
  },
  {
   "cell_type": "markdown",
   "metadata": {},
   "source": [
    "> A continuación se muestra un pantallazo durante el entrenamiento (en los computadores del INCA)\n",
    "\n",
    "![Entrenamiento](part3/train.png)"
   ]
  },
  {
   "cell_type": "code",
   "execution_count": null,
   "metadata": {},
   "outputs": [],
   "source": []
  }
 ],
 "metadata": {
  "accelerator": "GPU",
  "colab": {
   "collapsed_sections": [],
   "name": "Enunciado_T2.ipynb",
   "provenance": [],
   "version": "0.3.2"
  },
  "kernelspec": {
   "display_name": "Python 3",
   "language": "python",
   "name": "python3"
  },
  "language_info": {
   "codemirror_mode": {
    "name": "ipython",
    "version": 3
   },
   "file_extension": ".py",
   "mimetype": "text/x-python",
   "name": "python",
   "nbconvert_exporter": "python",
   "pygments_lexer": "ipython3",
   "version": "3.6.6"
  }
 },
 "nbformat": 4,
 "nbformat_minor": 1
}
